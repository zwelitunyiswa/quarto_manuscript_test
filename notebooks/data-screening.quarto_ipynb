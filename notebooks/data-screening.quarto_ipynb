{
  "cells": [
    {
      "cell_type": "markdown",
      "metadata": {},
      "source": [
        "---\n",
        "title: Data Screening\n",
        "description: Screening and filtering data from the IGN catalog down to the relevant events for La Palma\n",
        "authors:\n",
        "  - name: Steve Purves\n",
        "    orcid: 0000-0002-0760-5497\n",
        "  - name: Charlotte Wickham\n",
        "    note: Edited original notebook by Steve Purves\n",
        "jupyter: python3\n",
        "---"
      ],
      "id": "f3ceb1cf"
    },
    {
      "cell_type": "code",
      "metadata": {},
      "source": [
        "import pandas as pd\n",
        "import matplotlib.pyplot as plt"
      ],
      "id": "e6356410",
      "execution_count": null,
      "outputs": []
    },
    {
      "cell_type": "markdown",
      "metadata": {},
      "source": [
        "Import `la-palma.csv` - a clean subset of [`catalogoComunSV_1663233588717.csv`](https://github.com/Notebooks-Now/submission-quarto-full/blob/main/data/catalogoComunSV_1663233588717.csv):\n"
      ],
      "id": "3626dc19"
    },
    {
      "cell_type": "code",
      "metadata": {},
      "source": [
        "df = pd.read_csv('la-palma.csv')\n",
        "df['DateTime'] = pd.to_datetime(df['DateTime'])\n",
        "df = df.sort_values(by=['DateTime'], ascending=True)\n",
        "df.head()"
      ],
      "id": "d0882233",
      "execution_count": null,
      "outputs": []
    },
    {
      "cell_type": "code",
      "metadata": {},
      "source": [
        "df.describe()"
      ],
      "id": "63111182",
      "execution_count": null,
      "outputs": []
    },
    {
      "cell_type": "code",
      "metadata": {},
      "source": [
        "df.plot.scatter(x=\"Longitude\", y=\"Latitude\", figsize=(12,12), grid=\"on\");"
      ],
      "id": "905b1c6e",
      "execution_count": null,
      "outputs": []
    },
    {
      "cell_type": "markdown",
      "metadata": {},
      "source": [
        "### Filter \n",
        "\n",
        "Also some rows seem to be missing depth measurements, (see differences in the **count** for columns above) - take only rows with valid depths\n"
      ],
      "id": "500df97f"
    },
    {
      "cell_type": "code",
      "metadata": {},
      "source": [
        "df = df[df['Depth(km)'].notna()]\n",
        "df.describe()"
      ],
      "id": "51f5ddea",
      "execution_count": null,
      "outputs": []
    },
    {
      "cell_type": "code",
      "metadata": {},
      "source": [
        "plt.figure(figsize=(20,6))\n",
        "plt.subplot(1,3,1)\n",
        "df[\"Latitude\"].plot.hist(bins=20, density=True)\n",
        "plt.subplot(1,3,2)\n",
        "df[\"Longitude\"].plot.hist(bins=20, density=True)\n",
        "plt.subplot(1,3,3)\n",
        "df[\"Depth(km)\"].plot.hist(bins=50, density=True)"
      ],
      "id": "6e06ee27",
      "execution_count": null,
      "outputs": []
    },
    {
      "cell_type": "markdown",
      "metadata": {},
      "source": [
        "## Spatial Plot\n",
        "\n",
        "Scatter plot the spatial locations of events\n"
      ],
      "id": "895033ba"
    },
    {
      "cell_type": "code",
      "metadata": {},
      "source": [
        "#| label: fig-spatial-plot\n",
        "#| fig-cap: Locations of earthquakes on La Palma since 2017.\n",
        "#| fig-alt: A scatterplot of earthquake locations plotting latitude against longitude.\n",
        "from matplotlib import colormaps\n",
        "cmap = colormaps['viridis_r']\n",
        "ax = df.plot.scatter(x=\"Longitude\", y=\"Latitude\", \n",
        "                     s=47-df[\"Depth(km)\"], c=df[\"Magnitude\"], \n",
        "                     figsize=(12,10), grid=\"on\", cmap=cmap)\n",
        "colorbar = ax.collections[0].colorbar\n",
        "colorbar.set_label(\"Magnitude\")\n",
        "\n",
        "plt.show()"
      ],
      "id": "fig-spatial-plot",
      "execution_count": null,
      "outputs": []
    },
    {
      "cell_type": "markdown",
      "metadata": {},
      "source": [
        "### Timeline Plot\n",
        "\n",
        "Scatter plot the event time series and look for any quantization issues. Have times & dates been loaded correctly?\n",
        "\n",
        "\n",
        "ax = df.plot.scatter(x='DateTime', y='Depth(km)', figsize=(20,8))\n",
        "ax.set_ylim(50,0);"
      ],
      "id": "a0990536"
    }
  ],
  "metadata": {
    "kernelspec": {
      "name": "python3",
      "language": "python",
      "display_name": "Python 3 (ipykernel)",
      "path": "/Users/zweli/miniforge3/share/jupyter/kernels/python3"
    }
  },
  "nbformat": 4,
  "nbformat_minor": 5
}